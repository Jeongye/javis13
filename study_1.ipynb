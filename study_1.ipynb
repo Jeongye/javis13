{
 "cells": [
  {
   "cell_type": "code",
   "execution_count": 29,
   "metadata": {},
   "outputs": [],
   "source": [
    "import torch\n",
    "import torch.nn as nn\n",
    "import torch.optim as optim\n",
    "import torch.nn.init as init\n",
    "import time"
   ]
  },
  {
   "cell_type": "code",
   "execution_count": 5,
   "metadata": {},
   "outputs": [
    {
     "name": "stdout",
     "output_type": "stream",
     "text": [
      "torch.Size([1000, 1])\n"
     ]
    }
   ],
   "source": [
    "num_data = 1000 #조건1\n",
    "\n",
    "x = init.uniform_(torch.Tensor(num_data, 1), -5, 5) #조건1\n",
    "\n",
    "print(x.size())\n",
    "\n",
    "noise = init.normal_(torch.FloatTensor(num_data, 1), std =2) #조건2\n",
    "\n",
    "Y1 = x**4+x**2\n",
    "Y1_noise = (x+noise)**4+(x+noise)**2 \n",
    "\n",
    "Y2 = x**2+x\n",
    "Y2_noise = (x+noise)**2+(x+noise)"
   ]
  },
  {
   "cell_type": "code",
   "execution_count": 22,
   "metadata": {},
   "outputs": [],
   "source": [
    "model = nn.Linear(in_features=1, out_features=1)\n",
    "\n",
    "loss_func = nn.MSELoss() "
   ]
  },
  {
   "cell_type": "code",
   "execution_count": 12,
   "metadata": {},
   "outputs": [],
   "source": [
    "learning_rate = 0.01 #조건5\n",
    "optimizer = optim.SGD(model.parameters(), lr = learning_rate)"
   ]
  },
  {
   "cell_type": "code",
   "execution_count": 31,
   "metadata": {},
   "outputs": [
    {
     "name": "stdout",
     "output_type": "stream",
     "text": [
      "tensor(663113.6250)\n",
      "tensor(663113.6250)\n",
      "tensor(663113.6250)\n",
      "tensor(663113.6250)\n",
      "tensor(663113.6250)\n",
      "tensor(663113.6250)\n",
      "tensor(663113.6250)\n",
      "tensor(663113.6250)\n",
      "tensor(663113.6250)\n",
      "tensor(663113.6250)\n",
      "tensor(663113.6250)\n",
      "tensor(663113.6250)\n",
      "tensor(663113.6250)\n",
      "tensor(663113.6250)\n",
      "tensor(663113.6250)\n",
      "tensor(663113.6250)\n",
      "tensor(663113.6250)\n",
      "tensor(663113.6250)\n",
      "tensor(663113.6250)\n",
      "tensor(663113.6250)\n",
      "tensor(663113.6250)\n",
      "tensor(663113.6250)\n",
      "tensor(663113.6250)\n",
      "tensor(663113.6250)\n",
      "tensor(663113.6250)\n",
      "tensor(663113.6250)\n",
      "tensor(663113.6250)\n",
      "tensor(663113.6250)\n",
      "tensor(663113.6250)\n",
      "tensor(663113.6250)\n",
      "tensor(663113.6250)\n",
      "tensor(663113.6250)\n",
      "tensor(663113.6250)\n",
      "tensor(663113.6250)\n",
      "tensor(663113.6250)\n",
      "tensor(663113.6250)\n",
      "tensor(663113.6250)\n",
      "tensor(663113.6250)\n",
      "tensor(663113.6250)\n",
      "tensor(663113.6250)\n",
      "tensor(663113.6250)\n",
      "tensor(663113.6250)\n",
      "tensor(663113.6250)\n",
      "tensor(663113.6250)\n",
      "tensor(663113.6250)\n",
      "tensor(663113.6250)\n",
      "tensor(663113.6250)\n",
      "tensor(663113.6250)\n",
      "tensor(663113.6250)\n",
      "tensor(663113.6250)\n",
      "0.7360725402832031\n"
     ]
    }
   ],
   "source": [
    "label_1 = Y1_noise\n",
    "\n",
    "num_epoch = 500 #조건4\n",
    "losses = []\n",
    "\n",
    "init= time.time()\n",
    "\n",
    "if torch.cuda.is_available():\n",
    "    model = model.cuda()\n",
    "    x = x.cuda()\n",
    "    label_1 = Y1_noise.cuda()\n",
    "    \n",
    "for i in range(num_epoch):\n",
    "    \n",
    "    optimizer.zero_grad()\n",
    "    output = model(x)\n",
    "    \n",
    "    loss = loss_func(output, label_1)\n",
    "    loss.backward()\n",
    "    \n",
    "    optimizer.step()\n",
    "    \n",
    "    if i % 10 == 0:\n",
    "        print(loss.data.cpu())\n",
    "        \n",
    "    losses.append(loss.data.cpu())\n",
    "    \n",
    "print(time.time()-init)"
   ]
  },
  {
   "cell_type": "code",
   "execution_count": 24,
   "metadata": {},
   "outputs": [],
   "source": [
    "num_test_data = 1000\n",
    "\n",
    "model = model.cpu()\n",
    "\n",
    "test_data = init.uniform_(torch.Tensor(num_test_data, 1), -5, 5)"
   ]
  },
  {
   "cell_type": "code",
   "execution_count": 25,
   "metadata": {},
   "outputs": [
    {
     "data": {
      "image/png": "[encoded data removed]",
      "text/plain": [
       "<Figure size 432x288 with 1 Axes>"
      ]
     },
     "metadata": {
      "needs_background": "light"
     },
     "output_type": "display_data"
    }
   ],
   "source": [
    "import matplotlib.pyplot as plt\n",
    "%matplotlib inline\n",
    "\n",
    "x = x.cpu()\n",
    "\n",
    "plt.plot(x.data, Y1_noise.cpu().data, 'rx')\n",
    "plt.plot(x.data, Y1.data, 'k-')\n",
    "plt.legend(['train data', 'real data'])\n",
    "plt.title('Linear regression before training')\n",
    "plt.grid(True)\n",
    "plt.show()"
   ]
  },
  {
   "cell_type": "code",
   "execution_count": 33,
   "metadata": {},
   "outputs": [
    {
     "name": "stdout",
     "output_type": "stream",
     "text": [
      "tensor(663113.6250)\n",
      "tensor(663113.6250)\n",
      "tensor(663113.6250)\n",
      "tensor(663113.6250)\n",
      "tensor(663113.6250)\n",
      "tensor(663113.6250)\n",
      "tensor(663113.6250)\n",
      "tensor(663113.6250)\n",
      "tensor(663113.6250)\n",
      "tensor(663113.6250)\n",
      "tensor(663113.6250)\n",
      "tensor(663113.6250)\n",
      "tensor(663113.6250)\n",
      "tensor(663113.6250)\n",
      "tensor(663113.6250)\n",
      "tensor(663113.6250)\n",
      "tensor(663113.6250)\n",
      "tensor(663113.6250)\n",
      "tensor(663113.6250)\n",
      "tensor(663113.6250)\n",
      "tensor(663113.6250)\n",
      "tensor(663113.6250)\n",
      "tensor(663113.6250)\n",
      "tensor(663113.6250)\n",
      "tensor(663113.6250)\n",
      "tensor(663113.6250)\n",
      "tensor(663113.6250)\n",
      "tensor(663113.6250)\n",
      "tensor(663113.6250)\n",
      "tensor(663113.6250)\n",
      "tensor(663113.6250)\n",
      "tensor(663113.6250)\n",
      "tensor(663113.6250)\n",
      "tensor(663113.6250)\n",
      "tensor(663113.6250)\n",
      "tensor(663113.6250)\n",
      "tensor(663113.6250)\n",
      "tensor(663113.6250)\n",
      "tensor(663113.6250)\n",
      "tensor(663113.6250)\n",
      "tensor(663113.6250)\n",
      "tensor(663113.6250)\n",
      "tensor(663113.6250)\n",
      "tensor(663113.6250)\n",
      "tensor(663113.6250)\n",
      "tensor(663113.6250)\n",
      "tensor(663113.6250)\n",
      "tensor(663113.6250)\n",
      "tensor(663113.6250)\n",
      "tensor(663113.6250)\n",
      "0.65975022315979\n"
     ]
    }
   ],
   "source": [
    "label_2 = Y2_noise\n",
    "\n",
    "num_epoch = 500 #조건4\n",
    "losses = []\n",
    "\n",
    "init=time.time()\n",
    "\n",
    "if torch.cuda.is_available():\n",
    "    model = model.cuda()\n",
    "    x = x.cuda()\n",
    "    label_2 = Y2_noise.cuda()\n",
    "    \n",
    "for i in range(num_epoch):\n",
    "    \n",
    "    optimizer.zero_grad()\n",
    "    output = model(x)\n",
    "    \n",
    "    loss = loss_func(output, label)\n",
    "    loss.backward()\n",
    "    \n",
    "    optimizer.step()\n",
    "    \n",
    "    if i % 10 ==0:\n",
    "        print(loss.data.cpu())\n",
    "        \n",
    "    losses.append(loss.data.cpu())\n",
    "    \n",
    "print(time.time()-init)"
   ]
  },
  {
   "cell_type": "code",
   "execution_count": null,
   "metadata": {},
   "outputs": [],
   "source": []
  }
 ],
 "metadata": {
  "kernelspec": {
   "display_name": "Python 3",
   "language": "python",
   "name": "python3"
  },
  "language_info": {
   "codemirror_mode": {
    "name": "ipython",
    "version": 3
   },
   "file_extension": ".py",
   "mimetype": "text/x-python",
   "name": "python",
   "nbconvert_exporter": "python",
   "pygments_lexer": "ipython3",
   "version": "3.7.4"
  }
 },
 "nbformat": 4,
 "nbformat_minor": 2
}
